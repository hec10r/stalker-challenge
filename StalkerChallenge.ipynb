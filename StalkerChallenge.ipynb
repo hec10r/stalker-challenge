{
 "cells": [
  {
   "cell_type": "code",
   "execution_count": 1,
   "metadata": {},
   "outputs": [],
   "source": [
    "# Libraries\n",
    "from time import time as now\n",
    "from itertools import combinations\n",
    "from collections import defaultdict"
   ]
  },
  {
   "cell_type": "code",
   "execution_count": 2,
   "metadata": {},
   "outputs": [],
   "source": [
    "# Initial time\n",
    "initial_time = now()"
   ]
  },
  {
   "cell_type": "markdown",
   "metadata": {},
   "source": [
    "# Reading the data"
   ]
  },
  {
   "cell_type": "markdown",
   "metadata": {},
   "source": [
    "## Checkin\n",
    "In this step, two dictionaries will be created:\n",
    "1. ```checkin```, format:\n",
    "\n",
    "```\n",
    "checkin = {\n",
    "        user_1: {\n",
    "            location_1_1: (first and last date user_1 was in location_1_1),\n",
    "            ...,\n",
    "            location_1_k: (first and last date user_1 was in location_1_k)\n",
    "        },\n",
    "        ...\n",
    "        user_n: {\n",
    "            location_n_1: (first and last date user_n was in location_n_1),\n",
    "            ...,\n",
    "            location_n_k: (first and last date user_n was in location_n_k)\n",
    "        }\n",
    "}\n",
    "\n",
    "```\n",
    "\n",
    "2. ```location_dict```,  format:\n",
    "\n",
    "```\n",
    "location_dict = {\n",
    "        location_1: {set of users who were at location_1},\n",
    "        ...,\n",
    "        location_n: {set of users who were at location_n}\n",
    "}\n",
    "\n",
    "```"
   ]
  },
  {
   "cell_type": "code",
   "execution_count": 3,
   "metadata": {},
   "outputs": [],
   "source": [
    "# Initialize the dictionaries\n",
    "checkin = defaultdict(lambda: defaultdict(lambda: defaultdict(str)))\n",
    "location_dict_raw = defaultdict(set)\n",
    "\n",
    "# Set to store all the users who have checked-in\n",
    "travelers = set()\n",
    "\n",
    "# Read the file\n",
    "with open('Gowalla_totalCheckins.txt', 'r') as f:\n",
    "    for line in f:\n",
    "        # It is not neccesary to parse the date because of the format\n",
    "        user, checkin_time, *loc = line.split('\\t')[:-1]\n",
    "        \n",
    "        travelers.add(user)\n",
    "        \n",
    "        # The location_id doesn't work well, so the hash of the coordinates is used\n",
    "        location = hash(tuple(loc))\n",
    "        \n",
    "        # Fill the location dictionary\n",
    "        location_dict_raw[location] = location_dict_raw[location].union(set([user]))\n",
    "\n",
    "        \n",
    "        # Fill the check-in dictionary\n",
    "        checkin[user][location] = (\n",
    "                                   min(\n",
    "                                        checkin_time, \n",
    "                                        old_time if (old_time := checkin[user][location][0]) else checkin_time\n",
    "                                      ),\n",
    "                                   max(\n",
    "                                       checkin_time, \n",
    "                                       checkin[user][location][1]\n",
    "                                      )\n",
    "                                  )\n",
    "\n",
    "\n",
    "# Ignore locations only visited by one user\n",
    "location_dict = {key: val for key, val in location_dict_raw.items() if len(val) != 1}"
   ]
  },
  {
   "cell_type": "markdown",
   "metadata": {},
   "source": [
    "## Friends\n",
    "In this step, one dictionary will be created\n",
    "1. ```friends```, format:\n",
    "\n",
    "```\n",
    "friends = {\n",
    "    user_1: [user for user in users where user > user_1 and (user, user_1) are friends],\n",
    "    ...,\n",
    "    user_n: [user for user in users where user > user_n and (user, user_n) are friends]\n",
    "}\n",
    "\n",
    "```"
   ]
  },
  {
   "cell_type": "code",
   "execution_count": 4,
   "metadata": {},
   "outputs": [],
   "source": [
    "# Initialize the dictionary\n",
    "friends = defaultdict(list)\n",
    "\n",
    "# Read the friends file\n",
    "with open('Gowalla_edges.txt', 'r') as f:\n",
    "    for line in f:\n",
    "        user1, user2 = line[:-1].split('\\t')\n",
    "        \n",
    "        # Ignore all users who never checked-in\n",
    "        if user1 not in travelers:\n",
    "            continue\n",
    "        \n",
    "        # Ignore all friends who have already been listed\n",
    "        if user1 > user2:\n",
    "            continue\n",
    "            \n",
    "        # Ignore all friends who have never checked-in \n",
    "        if user2 not in travelers:\n",
    "            continue\n",
    "        \n",
    "        # Fill the dictionary\n",
    "        friends[user1].append(user2)"
   ]
  },
  {
   "cell_type": "markdown",
   "metadata": {},
   "source": [
    "# Solution"
   ]
  },
  {
   "cell_type": "code",
   "execution_count": 5,
   "metadata": {},
   "outputs": [],
   "source": [
    "# Funtions to use\n",
    "\n",
    "def stalker_score(user1, user2, max_value=-1):\n",
    "    \"\"\"\n",
    "    Calculate the stalker scores for the pairs\n",
    "    (user1, user2) and (user2, user1).\n",
    "\n",
    "    If both of the stalker scores would be less\n",
    "    than max_value, the function returns (-1, -1)\n",
    "    before iterating\n",
    "    \"\"\"\n",
    "    sc1, sc2 = 0, 0\n",
    "\n",
    "    # Avoid unnecessary iterations\n",
    "    if len(locs1 := checkin[user1]) <= max_value \\\n",
    "            or len(locs2 := checkin[user2]) <= max_value\\\n",
    "            or len(locations := [location for location in locs1 if location in locs2]) <= max_value:\n",
    "        return -1, -1\n",
    "    else:\n",
    "        for location in locations:\n",
    "            # First and last time user1 was in location\n",
    "            first_time1, last_time1 = checkin[user1][location]\n",
    "\n",
    "            # First and last time user2 was in location\n",
    "            first_time2, last_time2 = checkin[user2][location]\n",
    "\n",
    "            if last_time1 > first_time2:  # If user2 was in location before user1\n",
    "                sc2 += 1\n",
    "\n",
    "            if last_time2 > first_time1:  # If user1 was in location before user2\n",
    "                sc1 += 1\n",
    "        return sc1, sc2\n",
    "\n",
    "\n",
    "def possible_users(location_dict):\n",
    "    \"\"\"\n",
    "    Generate all the possible pairs of users\n",
    "    that have been in the same location at \n",
    "    least one time.\n",
    "    \"\"\"\n",
    "    for it in (combinations(location_dict[loc], 2) for loc in location_dict):\n",
    "        for user1, user2 in it:\n",
    "            yield user1, user2\n"
   ]
  },
  {
   "cell_type": "markdown",
   "metadata": {},
   "source": [
    "## 1. A & B are friends"
   ]
  },
  {
   "cell_type": "code",
   "execution_count": 6,
   "metadata": {},
   "outputs": [],
   "source": [
    "max_val = -1\n",
    "\n",
    "for user1 in friends:\n",
    "    for user2 in friends[user1]:\n",
    "        sc1, sc2 = stalker_score(user1, user2, max_val)\n",
    "        if sc1 > sc2:\n",
    "            if sc1 > max_val:\n",
    "                max_val = sc1\n",
    "                stalker = (user1, user2)\n",
    "        elif sc2 > max_val:\n",
    "            max_val = sc2\n",
    "            stalker = (user2, user1)"
   ]
  },
  {
   "cell_type": "markdown",
   "metadata": {},
   "source": [
    "### Answer 1\n",
    "\n"
   ]
  },
  {
   "cell_type": "code",
   "execution_count": 7,
   "metadata": {},
   "outputs": [
    {
     "name": "stdout",
     "output_type": "stream",
     "text": [
      "The friend pair ('10410', '10393') has the highest stalker score: 365\n"
     ]
    }
   ],
   "source": [
    "print(f'The friend pair {stalker} has the highest stalker score: {max_val}')"
   ]
  },
  {
   "cell_type": "markdown",
   "metadata": {},
   "source": [
    "## 2. A & B are not friends"
   ]
  },
  {
   "cell_type": "code",
   "execution_count": 8,
   "metadata": {},
   "outputs": [],
   "source": [
    "# Initialize generator of all possible users pairs\n",
    "user_pairs = possible_users(location_dict)\n",
    "\n",
    "while True:\n",
    "    try:\n",
    "        user1, user2 = next(user_pairs)\n",
    "    except StopIteration:\n",
    "        break\n",
    "    # Assuming that this score would be greather than the\n",
    "    # last one, the first max_val used is the previous answer.\n",
    "    # Otherwise, -1 should be assigned to max_val and in each\n",
    "    # iteration would be necessary to check if user_1 and \n",
    "    # user_2 are friends.\n",
    "    sc1, sc2 = stalker_score(user1, user2, max_val)\n",
    "    \n",
    "    if sc1 > sc2:\n",
    "        if sc1 > max_val:\n",
    "            max_val = sc1\n",
    "            stalker = (user1, user2)\n",
    "    elif sc2 > max_val:\n",
    "        max_val = sc2\n",
    "        stalker = (user2, user1)"
   ]
  },
  {
   "cell_type": "markdown",
   "metadata": {},
   "source": [
    "### Answer 2"
   ]
  },
  {
   "cell_type": "code",
   "execution_count": 9,
   "metadata": {},
   "outputs": [
    {
     "name": "stdout",
     "output_type": "stream",
     "text": [
      "The non-friend pair ('1251', '106819') has the highest stalker score: 384\n"
     ]
    }
   ],
   "source": [
    "print(f'The non-friend pair {stalker} has the highest stalker score: {max_val}')"
   ]
  },
  {
   "cell_type": "code",
   "execution_count": 10,
   "metadata": {},
   "outputs": [
    {
     "name": "stdout",
     "output_type": "stream",
     "text": [
      "The total running time was 2 minutes and 12 seconds\n"
     ]
    }
   ],
   "source": [
    "# Execution time\n",
    "execution_time = int(now() - initial_time)\n",
    "\n",
    "print(f'The total running time was {execution_time//60} minutes and {execution_time % 60} seconds')"
   ]
  }
 ],
 "metadata": {
  "kernelspec": {
   "display_name": "Python 3",
   "language": "python",
   "name": "python3"
  },
  "language_info": {
   "codemirror_mode": {
    "name": "ipython",
    "version": 3
   },
   "file_extension": ".py",
   "mimetype": "text/x-python",
   "name": "python",
   "nbconvert_exporter": "python",
   "pygments_lexer": "ipython3",
   "version": "3.8.1"
  }
 },
 "nbformat": 4,
 "nbformat_minor": 2
}
